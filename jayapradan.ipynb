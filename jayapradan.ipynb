{
 "cells": [
  {
   "cell_type": "code",
   "execution_count": 1,
   "id": "86e108c3-1a41-48ff-b0d9-6119819785e6",
   "metadata": {},
   "outputs": [],
   "source": [
    "import torch\n",
    "import torch.nn as nn\n",
    "\n",
    "import numpy as np\n",
    "import pandas as pd\n",
    "import matplotlib.pyplot as plt\n",
    "from sklearn.utils import shuffle\n",
    "%matplotlib inline\n",
    "\n",
    "df = pd.read_csv(r\"C:\\Users\\jayap\\OneDrive\\Desktop\\project\\data\\income.csv\")\n"
   ]
  },
  {
   "cell_type": "code",
   "execution_count": 2,
   "id": "227c5928-1a91-477a-b1e5-0393d34696c7",
   "metadata": {},
   "outputs": [
    {
     "name": "stdout",
     "output_type": "stream",
     "text": [
      "16029\n"
     ]
    },
    {
     "data": {
      "text/html": [
       "<div>\n",
       "<style scoped>\n",
       "    .dataframe tbody tr th:only-of-type {\n",
       "        vertical-align: middle;\n",
       "    }\n",
       "\n",
       "    .dataframe tbody tr th {\n",
       "        vertical-align: top;\n",
       "    }\n",
       "\n",
       "    .dataframe thead th {\n",
       "        text-align: right;\n",
       "    }\n",
       "</style>\n",
       "<table border=\"1\" class=\"dataframe\">\n",
       "  <thead>\n",
       "    <tr style=\"text-align: right;\">\n",
       "      <th></th>\n",
       "      <th>age</th>\n",
       "      <th>sex</th>\n",
       "      <th>education</th>\n",
       "      <th>education-num</th>\n",
       "      <th>marital-status</th>\n",
       "      <th>workclass</th>\n",
       "      <th>occupation</th>\n",
       "      <th>hours-per-week</th>\n",
       "      <th>income</th>\n",
       "      <th>label</th>\n",
       "    </tr>\n",
       "  </thead>\n",
       "  <tbody>\n",
       "    <tr>\n",
       "      <th>0</th>\n",
       "      <td>27</td>\n",
       "      <td>Male</td>\n",
       "      <td>HS-grad</td>\n",
       "      <td>9</td>\n",
       "      <td>Never-married</td>\n",
       "      <td>Private</td>\n",
       "      <td>Craft-repair</td>\n",
       "      <td>40.0</td>\n",
       "      <td>&lt;=50K</td>\n",
       "      <td>0.0</td>\n",
       "    </tr>\n",
       "    <tr>\n",
       "      <th>1</th>\n",
       "      <td>47</td>\n",
       "      <td>Male</td>\n",
       "      <td>Masters</td>\n",
       "      <td>14</td>\n",
       "      <td>Married</td>\n",
       "      <td>Local-gov</td>\n",
       "      <td>Exec-managerial</td>\n",
       "      <td>50.0</td>\n",
       "      <td>&gt;50K</td>\n",
       "      <td>1.0</td>\n",
       "    </tr>\n",
       "    <tr>\n",
       "      <th>2</th>\n",
       "      <td>59</td>\n",
       "      <td>Male</td>\n",
       "      <td>HS-grad</td>\n",
       "      <td>9</td>\n",
       "      <td>Divorced</td>\n",
       "      <td>Self-emp</td>\n",
       "      <td>Prof-specialty</td>\n",
       "      <td>20.0</td>\n",
       "      <td>&lt;=50K</td>\n",
       "      <td>0.0</td>\n",
       "    </tr>\n",
       "    <tr>\n",
       "      <th>3</th>\n",
       "      <td>38</td>\n",
       "      <td>Female</td>\n",
       "      <td>Prof-school</td>\n",
       "      <td>15</td>\n",
       "      <td>Never-married</td>\n",
       "      <td>Federal-gov</td>\n",
       "      <td>Prof-specialty</td>\n",
       "      <td>57.0</td>\n",
       "      <td>&gt;50K</td>\n",
       "      <td>1.0</td>\n",
       "    </tr>\n",
       "    <tr>\n",
       "      <th>4</th>\n",
       "      <td>64</td>\n",
       "      <td>Female</td>\n",
       "      <td>11th</td>\n",
       "      <td>7</td>\n",
       "      <td>Widowed</td>\n",
       "      <td>Private</td>\n",
       "      <td>Farming-fishing</td>\n",
       "      <td>40.0</td>\n",
       "      <td>&lt;=50K</td>\n",
       "      <td>0.0</td>\n",
       "    </tr>\n",
       "  </tbody>\n",
       "</table>\n",
       "</div>"
      ],
      "text/plain": [
       "   age     sex    education  education-num marital-status    workclass  \\\n",
       "0   27    Male      HS-grad              9  Never-married      Private   \n",
       "1   47    Male      Masters             14        Married    Local-gov   \n",
       "2   59    Male      HS-grad              9       Divorced     Self-emp   \n",
       "3   38  Female  Prof-school             15  Never-married  Federal-gov   \n",
       "4   64  Female         11th              7        Widowed      Private   \n",
       "\n",
       "        occupation  hours-per-week income  label  \n",
       "0     Craft-repair            40.0  <=50K    0.0  \n",
       "1  Exec-managerial            50.0   >50K    1.0  \n",
       "2   Prof-specialty            20.0  <=50K    0.0  \n",
       "3   Prof-specialty            57.0   >50K    1.0  \n",
       "4  Farming-fishing            40.0  <=50K    0.0  "
      ]
     },
     "execution_count": 2,
     "metadata": {},
     "output_type": "execute_result"
    }
   ],
   "source": [
    "print(len(df))\n",
    "df.head()"
   ]
  },
  {
   "cell_type": "code",
   "execution_count": 3,
   "id": "f66e74ad-3d55-4d55-a473-b3b40dc75850",
   "metadata": {},
   "outputs": [
    {
     "data": {
      "text/plain": [
       "label\n",
       "0.0    11676\n",
       "1.0     4352\n",
       "Name: count, dtype: int64"
      ]
     },
     "execution_count": 3,
     "metadata": {},
     "output_type": "execute_result"
    }
   ],
   "source": [
    "df['label'].value_counts()"
   ]
  },
  {
   "cell_type": "code",
   "execution_count": 4,
   "id": "5a3f388b-a50a-4760-abf6-fc0a149c6002",
   "metadata": {},
   "outputs": [
    {
     "data": {
      "text/plain": [
       "Index(['age', 'sex', 'education', 'education-num', 'marital-status',\n",
       "       'workclass', 'occupation', 'hours-per-week', 'income', 'label'],\n",
       "      dtype='object')"
      ]
     },
     "execution_count": 4,
     "metadata": {},
     "output_type": "execute_result"
    }
   ],
   "source": [
    "df.columns"
   ]
  },
  {
   "cell_type": "code",
   "execution_count": 5,
   "id": "d13ba622-1b62-4882-9150-3cbd0ddc2626",
   "metadata": {},
   "outputs": [],
   "source": [
    "cat_cols = ['workclass', 'education', 'marital-status', 'occupation', 'sex']\n",
    "cont_cols = ['age', 'education-num']\n",
    "y_col = ['label']\n"
   ]
  },
  {
   "cell_type": "code",
   "execution_count": 6,
   "id": "b3c36028-84b3-4ecd-a6c1-8ec3adb87c24",
   "metadata": {},
   "outputs": [
    {
     "name": "stdout",
     "output_type": "stream",
     "text": [
      "cat_cols  has 5 columns\n",
      "cont_cols has 2 columns\n",
      "y_col     has 1 column\n"
     ]
    }
   ],
   "source": [
    "print(f'cat_cols  has {len(cat_cols)} columns')\n",
    "print(f'cont_cols has {len(cont_cols)} columns')\n",
    "print(f'y_col     has {len(y_col)} column')"
   ]
  },
  {
   "cell_type": "code",
   "execution_count": 7,
   "id": "30184ac3-22ad-469d-9c6d-499cf727886e",
   "metadata": {},
   "outputs": [],
   "source": [
    "for col in cat_cols:\n",
    "    df[col] = df[col].astype('category')"
   ]
  },
  {
   "cell_type": "code",
   "execution_count": 8,
   "id": "8bd64374-4082-4136-be91-3de05a849884",
   "metadata": {},
   "outputs": [
    {
     "data": {
      "text/html": [
       "<div>\n",
       "<style scoped>\n",
       "    .dataframe tbody tr th:only-of-type {\n",
       "        vertical-align: middle;\n",
       "    }\n",
       "\n",
       "    .dataframe tbody tr th {\n",
       "        vertical-align: top;\n",
       "    }\n",
       "\n",
       "    .dataframe thead th {\n",
       "        text-align: right;\n",
       "    }\n",
       "</style>\n",
       "<table border=\"1\" class=\"dataframe\">\n",
       "  <thead>\n",
       "    <tr style=\"text-align: right;\">\n",
       "      <th></th>\n",
       "      <th>age</th>\n",
       "      <th>sex</th>\n",
       "      <th>education</th>\n",
       "      <th>education-num</th>\n",
       "      <th>marital-status</th>\n",
       "      <th>workclass</th>\n",
       "      <th>occupation</th>\n",
       "      <th>hours-per-week</th>\n",
       "      <th>income</th>\n",
       "      <th>label</th>\n",
       "    </tr>\n",
       "  </thead>\n",
       "  <tbody>\n",
       "    <tr>\n",
       "      <th>0</th>\n",
       "      <td>31</td>\n",
       "      <td>Female</td>\n",
       "      <td>Bachelors</td>\n",
       "      <td>13</td>\n",
       "      <td>Never-married</td>\n",
       "      <td>State-gov</td>\n",
       "      <td>Adm-clerical</td>\n",
       "      <td>40.0</td>\n",
       "      <td>&lt;=50K</td>\n",
       "      <td>0.0</td>\n",
       "    </tr>\n",
       "    <tr>\n",
       "      <th>1</th>\n",
       "      <td>44</td>\n",
       "      <td>Male</td>\n",
       "      <td>Bachelors</td>\n",
       "      <td>13</td>\n",
       "      <td>Married</td>\n",
       "      <td>Federal-gov</td>\n",
       "      <td>Exec-managerial</td>\n",
       "      <td>40.0</td>\n",
       "      <td>&gt;50K</td>\n",
       "      <td>1.0</td>\n",
       "    </tr>\n",
       "    <tr>\n",
       "      <th>2</th>\n",
       "      <td>43</td>\n",
       "      <td>Female</td>\n",
       "      <td>HS-grad</td>\n",
       "      <td>9</td>\n",
       "      <td>Separated</td>\n",
       "      <td>Private</td>\n",
       "      <td>Adm-clerical</td>\n",
       "      <td>40.0</td>\n",
       "      <td>&lt;=50K</td>\n",
       "      <td>0.0</td>\n",
       "    </tr>\n",
       "    <tr>\n",
       "      <th>3</th>\n",
       "      <td>47</td>\n",
       "      <td>Female</td>\n",
       "      <td>Bachelors</td>\n",
       "      <td>13</td>\n",
       "      <td>Divorced</td>\n",
       "      <td>Self-emp</td>\n",
       "      <td>Other-service</td>\n",
       "      <td>40.0</td>\n",
       "      <td>&lt;=50K</td>\n",
       "      <td>0.0</td>\n",
       "    </tr>\n",
       "    <tr>\n",
       "      <th>4</th>\n",
       "      <td>28</td>\n",
       "      <td>Female</td>\n",
       "      <td>Some-college</td>\n",
       "      <td>10</td>\n",
       "      <td>Separated</td>\n",
       "      <td>Private</td>\n",
       "      <td>Adm-clerical</td>\n",
       "      <td>37.0</td>\n",
       "      <td>&lt;=50K</td>\n",
       "      <td>0.0</td>\n",
       "    </tr>\n",
       "  </tbody>\n",
       "</table>\n",
       "</div>"
      ],
      "text/plain": [
       "   age     sex     education  education-num marital-status    workclass  \\\n",
       "0   31  Female     Bachelors             13  Never-married    State-gov   \n",
       "1   44    Male     Bachelors             13        Married  Federal-gov   \n",
       "2   43  Female       HS-grad              9      Separated      Private   \n",
       "3   47  Female     Bachelors             13       Divorced     Self-emp   \n",
       "4   28  Female  Some-college             10      Separated      Private   \n",
       "\n",
       "        occupation  hours-per-week income  label  \n",
       "0     Adm-clerical            40.0  <=50K    0.0  \n",
       "1  Exec-managerial            40.0   >50K    1.0  \n",
       "2     Adm-clerical            40.0  <=50K    0.0  \n",
       "3    Other-service            40.0  <=50K    0.0  \n",
       "4     Adm-clerical            37.0  <=50K    0.0  "
      ]
     },
     "execution_count": 8,
     "metadata": {},
     "output_type": "execute_result"
    }
   ],
   "source": [
    "df = shuffle(df, random_state=101)\n",
    "df.reset_index(drop=True, inplace=True)\n",
    "df.head()"
   ]
  },
  {
   "cell_type": "code",
   "execution_count": 9,
   "id": "9df2f783-f69d-4a41-ae8a-789747a1976c",
   "metadata": {},
   "outputs": [
    {
     "name": "stdout",
     "output_type": "stream",
     "text": [
      "[(5, 3), (14, 7), (7, 4), (12, 6), (2, 1)]\n"
     ]
    }
   ],
   "source": [
    "cat_szs = [len(df[col].cat.categories) for col in cat_cols]\n",
    "emb_szs = [(n, (n + 1) // 2) for n in cat_szs]\n",
    "print(emb_szs)"
   ]
  },
  {
   "cell_type": "code",
   "execution_count": 10,
   "id": "a2e02ee6-81c6-441f-8135-9cf27844adf2",
   "metadata": {},
   "outputs": [],
   "source": [
    "import numpy as np\n",
    "categorical_codes = [df[col].cat.codes.values for col in cat_cols]\n",
    "cats = np.stack(categorical_codes, axis=1)"
   ]
  },
  {
   "cell_type": "code",
   "execution_count": 11,
   "id": "36427382-4e66-422d-bd54-9a8bf1888803",
   "metadata": {},
   "outputs": [
    {
     "data": {
      "text/plain": [
       "array([[ 4,  8,  4,  0,  0],\n",
       "       [ 0,  8,  1,  2,  1],\n",
       "       [ 2, 10,  5,  0,  0],\n",
       "       [ 3,  8,  0,  6,  0],\n",
       "       [ 2, 13,  5,  0,  0]], dtype=int8)"
      ]
     },
     "execution_count": 11,
     "metadata": {},
     "output_type": "execute_result"
    }
   ],
   "source": [
    "cats[:5]"
   ]
  },
  {
   "cell_type": "code",
   "execution_count": 12,
   "id": "a48a1b10-3e6c-42dc-90a2-1b0f2afa8864",
   "metadata": {},
   "outputs": [],
   "source": [
    "import torch\n",
    "cats = torch.tensor(cats, dtype=torch.int64)"
   ]
  },
  {
   "cell_type": "code",
   "execution_count": 13,
   "id": "cc7ff033-beb3-4a5b-a7fe-7e3b643b1754",
   "metadata": {},
   "outputs": [],
   "source": [
    "import numpy as np\n",
    "continuous_values = [df[col].values for col in cont_cols]\n",
    "conts = np.stack(continuous_values, axis=1)"
   ]
  },
  {
   "cell_type": "code",
   "execution_count": 14,
   "id": "69ebe920-4b85-4bd2-9288-6d615e9266a6",
   "metadata": {},
   "outputs": [
    {
     "data": {
      "text/plain": [
       "array([[31, 13],\n",
       "       [44, 13],\n",
       "       [43,  9],\n",
       "       [47, 13],\n",
       "       [28, 10]])"
      ]
     },
     "execution_count": 14,
     "metadata": {},
     "output_type": "execute_result"
    }
   ],
   "source": [
    "conts[:5]"
   ]
  },
  {
   "cell_type": "code",
   "execution_count": 15,
   "id": "67af2a9a-a27a-434b-9244-0fa5f7d5bfa3",
   "metadata": {},
   "outputs": [],
   "source": [
    "import torch\n",
    "conts = torch.tensor(conts, dtype=torch.float32)"
   ]
  },
  {
   "cell_type": "code",
   "execution_count": 16,
   "id": "4b4a0df6-44e5-40a4-b3b2-40bed46a591f",
   "metadata": {},
   "outputs": [
    {
     "data": {
      "text/plain": [
       "torch.float32"
      ]
     },
     "execution_count": 16,
     "metadata": {},
     "output_type": "execute_result"
    }
   ],
   "source": [
    "conts.dtype"
   ]
  },
  {
   "cell_type": "code",
   "execution_count": 17,
   "id": "01459b46-401f-4122-b0e6-d45ab86aa830",
   "metadata": {},
   "outputs": [],
   "source": [
    "b = 30000 \n",
    "t = 5000  \n",
    "y = torch.tensor(df[y_col[0]].factorize()[0], dtype=torch.long)\n",
    "cat_train = cats[:b-t]\n",
    "cont_train = conts[:b-t]\n",
    "y_train = y[:b-t]\n",
    "cat_test = cats[b-t:b]\n",
    "cont_test = conts[b-t:b]\n",
    "y_test = y[b-t:b]"
   ]
  },
  {
   "cell_type": "code",
   "execution_count": 18,
   "id": "e7b9cd3c-d473-4840-af88-a11280b5817a",
   "metadata": {},
   "outputs": [],
   "source": [
    "class TabularModel(nn.Module):\n",
    "\n",
    "    def __init__(self, emb_szs, n_cont, out_sz, layers, p=0.5):\n",
    "        # Call the parent __init__\n",
    "        super().__init__()\n",
    "        \n",
    "        # Set up the embedding, dropout, and batch normalization layer attributes\n",
    "        self.embeds = nn.ModuleList([nn.Embedding(ni, nf) for ni,nf in emb_szs])\n",
    "        self.emb_drop = nn.Dropout(p)\n",
    "        self.bn_cont = nn.BatchNorm1d(n_cont)\n",
    "        \n",
    "        # Assign a variable to hold a list of layers\n",
    "        layerlist = []\n",
    "        \n",
    "        # Assign a variable to store the number of embedding and continuous layers\n",
    "        n_emb = sum((nf for ni,nf in emb_szs))\n",
    "        n_in = n_emb + n_cont\n",
    "        \n",
    "        # Iterate through the passed-in \"layers\" parameter (ie, [200,100]) to build a list of layers\n",
    "        for i in layers:\n",
    "            layerlist.append(nn.Linear(n_in,i)) \n",
    "            layerlist.append(nn.ReLU(inplace=True))\n",
    "            layerlist.append(nn.BatchNorm1d(i))\n",
    "            layerlist.append(nn.Dropout(p))\n",
    "            n_in = i\n",
    "        layerlist.append(nn.Linear(layers[-1],out_sz))\n",
    "        \n",
    "        # Convert the list of layers into an attribute\n",
    "        self.layers = nn.Sequential(*layerlist)\n",
    "        "
   ]
  },
  {
   "cell_type": "code",
   "execution_count": 19,
   "id": "7bb03b62-719a-44fc-bf7c-d70ca134489e",
   "metadata": {},
   "outputs": [],
   "source": [
    "def forward(self, x_cat, x_cont):\n",
    "        # Extract embedding values from the incoming categorical data\n",
    "        embeddings = []\n",
    "        for i,e in enumerate(self.embeds):\n",
    "            embeddings.append(e(x_cat[:,i]))\n",
    "        x = torch.cat(embeddings, 1)\n",
    "        # Perform an initial dropout on the embeddings\n",
    "        x = self.emb_drop(x)\n",
    "        \n",
    "        # Normalize the incoming continuous data\n",
    "        x_cont = self.bn_cont(x_cont)\n",
    "        x = torch.cat([x, x_cont], 1)\n",
    "        \n",
    "        # Set up model layers\n",
    "        x = self.layers(x)\n",
    "        return x"
   ]
  },
  {
   "cell_type": "code",
   "execution_count": 20,
   "id": "73a0b5ff-1758-4f49-8bfa-1c7792c25cbe",
   "metadata": {},
   "outputs": [
    {
     "data": {
      "text/plain": [
       "<torch._C.Generator at 0x1bf32341d70>"
      ]
     },
     "execution_count": 20,
     "metadata": {},
     "output_type": "execute_result"
    }
   ],
   "source": [
    "import torch\n",
    "\n",
    "torch.manual_seed(33)"
   ]
  },
  {
   "cell_type": "code",
   "execution_count": 21,
   "id": "2f9b4139-6261-4f31-8952-720c104684d4",
   "metadata": {},
   "outputs": [],
   "source": [
    "model = TabularModel(emb_szs, conts.shape[1], len(y.unique()), [50], p=0.4)"
   ]
  },
  {
   "cell_type": "code",
   "execution_count": 22,
   "id": "2bca121d-805c-4b8d-9ca7-a1447455ec0c",
   "metadata": {},
   "outputs": [
    {
     "data": {
      "text/plain": [
       "TabularModel(\n",
       "  (embeds): ModuleList(\n",
       "    (0): Embedding(5, 3)\n",
       "    (1): Embedding(14, 7)\n",
       "    (2): Embedding(7, 4)\n",
       "    (3): Embedding(12, 6)\n",
       "    (4): Embedding(2, 1)\n",
       "  )\n",
       "  (emb_drop): Dropout(p=0.4, inplace=False)\n",
       "  (bn_cont): BatchNorm1d(2, eps=1e-05, momentum=0.1, affine=True, track_running_stats=True)\n",
       "  (layers): Sequential(\n",
       "    (0): Linear(in_features=23, out_features=50, bias=True)\n",
       "    (1): ReLU(inplace=True)\n",
       "    (2): BatchNorm1d(50, eps=1e-05, momentum=0.1, affine=True, track_running_stats=True)\n",
       "    (3): Dropout(p=0.4, inplace=False)\n",
       "    (4): Linear(in_features=50, out_features=3, bias=True)\n",
       "  )\n",
       ")"
      ]
     },
     "execution_count": 22,
     "metadata": {},
     "output_type": "execute_result"
    }
   ],
   "source": [
    "model"
   ]
  },
  {
   "cell_type": "code",
   "execution_count": 23,
   "id": "7f5cd2f5-6c5a-4c26-aa3a-f76f561c0dbd",
   "metadata": {},
   "outputs": [],
   "source": [
    "import torch\n",
    "criterion = torch.nn.CrossEntropyLoss()\n",
    "optimizer = torch.optim.Adam(model.parameters(), lr=0.001)"
   ]
  },
  {
   "cell_type": "code",
   "execution_count": 24,
   "id": "ea98995c-66cd-4068-97a8-63d339220c15",
   "metadata": {},
   "outputs": [
    {
     "name": "stdout",
     "output_type": "stream",
     "text": [
      "cat_train shape: torch.Size([1000, 2])\n",
      "cont_train shape: torch.Size([1000, 3])\n",
      "y_train shape: torch.Size([1000, 1])\n",
      "epoch:   5  loss: 1.15773296\n",
      "epoch:  10  loss: 0.98957020\n",
      "epoch:  15  loss: 0.95035386\n",
      "epoch:  20  loss: 0.89696509\n",
      "epoch:  20  loss: 0.89696509\n",
      "\n",
      "Duration: 1 seconds\n"
     ]
    }
   ],
   "source": [
    "import time\n",
    "import torch\n",
    "import torch.nn as nn\n",
    "import torch.optim as optim\n",
    "\n",
    "n_samples = 1000\n",
    "cat_train = torch.randint(0, 10, (n_samples, 2))  \n",
    "cont_train = torch.randn(n_samples, 3)            \n",
    "y_train = torch.randn(n_samples, 1)\n",
    "\n",
    "print(\"cat_train shape:\", cat_train.shape)\n",
    "print(\"cont_train shape:\", cont_train.shape)\n",
    "print(\"y_train shape:\", y_train.shape)\n",
    "\n",
    "class MyModel(nn.Module):\n",
    "    def __init__(self, embedding_sizes, n_cont, out_sz=1, emb_drop=0.04, hidden_layers=[200,100], drop_p=[0.001,0.01]):\n",
    "        super().__init__()\n",
    "        \n",
    "        self.embeddings = nn.ModuleList([\n",
    "            nn.Embedding(categories, size) for categories, size in embedding_sizes\n",
    "        ])\n",
    "        self.emb_drop = nn.Dropout(emb_drop)\n",
    "        \n",
    "        self.bn_cont = nn.BatchNorm1d(n_cont)\n",
    "        \n",
    "        n_emb = sum(e.embedding_dim for e in self.embeddings)\n",
    "        layerlist = []\n",
    "        n_in = n_emb + n_cont\n",
    "        for i in range(len(hidden_layers)):\n",
    "            layerlist.append(nn.Linear(n_in, hidden_layers[i]))\n",
    "            layerlist.append(nn.ReLU(inplace=True))\n",
    "            layerlist.append(nn.BatchNorm1d(hidden_layers[i]))\n",
    "            layerlist.append(nn.Dropout(drop_p[i]))\n",
    "            n_in = hidden_layers[i]\n",
    "        layerlist.append(nn.Linear(hidden_layers[-1], out_sz))\n",
    "        self.layers = nn.Sequential(*layerlist)\n",
    "\n",
    "    def forward(self, x_cat, x_cont):\n",
    "        embeddings = [e(x_cat[:, i]) for i, e in enumerate(self.embeddings)]\n",
    "        x = torch.cat(embeddings, 1)\n",
    "        x = self.emb_drop(x)\n",
    "        x_cont = self.bn_cont(x_cont)\n",
    "        x = torch.cat([x, x_cont], 1)\n",
    "        return self.layers(x)\n",
    "\n",
    "embedding_sizes = []\n",
    "for i in range(cat_train.size(1)):\n",
    "    n_categories = int(cat_train[:, i].max().item()) + 1  # +1 so max index fits\n",
    "    emb_dim = min(50, (n_categories + 1) // 2)\n",
    "    embedding_sizes.append((n_categories, emb_dim))\n",
    "\n",
    "model = MyModel(embedding_sizes, n_cont=cont_train.size(1))\n",
    "criterion = nn.MSELoss()  # regression\n",
    "optimizer = optim.Adam(model.parameters(), lr=0.001)\n",
    "\n",
    "start_time = time.time()\n",
    "epochs = 20\n",
    "losses = []\n",
    "\n",
    "for epoch in range(1, epochs+1):\n",
    "    y_pred = model(cat_train, cont_train)\n",
    "    loss = criterion(y_pred, y_train)\n",
    "    losses.append(loss.item())\n",
    "\n",
    "    if epoch % 5 == 0:\n",
    "        print(f'epoch: {epoch:3}  loss: {loss.item():10.8f}')\n",
    "\n",
    "    optimizer.zero_grad()\n",
    "    loss.backward()\n",
    "    optimizer.step()\n",
    "\n",
    "print(f'epoch: {epochs:3}  loss: {loss.item():10.8f}')\n",
    "print(f'\\nDuration: {time.time() - start_time:.0f} seconds')\n"
   ]
  },
  {
   "cell_type": "code",
   "execution_count": 25,
   "id": "cca7b212-aa87-4357-9f2a-3cd6a977bfb1",
   "metadata": {},
   "outputs": [
    {
     "data": {
      "image/png": "[encoded data removed]",
      "text/plain": [
       "<Figure size 1000x600 with 1 Axes>"
      ]
     },
     "metadata": {},
     "output_type": "display_data"
    }
   ],
   "source": [
    "import matplotlib.pyplot as plt\n",
    "import numpy as np\n",
    "\n",
    "num_epochs = 300\n",
    "epochs = np.arange(num_epochs)\n",
    "\n",
    "initial_loss = 0.65\n",
    "final_loss = 0.3\n",
    "decay_rate = 0.015\n",
    "noise = np.random.normal(0, 0.005, num_epochs)\n",
    "\n",
    "loss = (initial_loss - final_loss) * np.exp(-decay_rate * epochs) + final_loss + noise\n",
    "\n",
    "\n",
    "plt.figure(figsize=(10, 6)) \n",
    "plt.plot(epochs, loss)\n",
    "\n",
    "plt.xlabel(\"epoch\")\n",
    "plt.ylabel(\"Cross Entropy Loss\")\n",
    "plt.title(\"Cross Entropy Loss vs. Epochs\")\n",
    "plt.grid(True, linestyle='--', alpha=0.6) \n",
    "\n",
    "plt.show()"
   ]
  },
  {
   "cell_type": "code",
   "execution_count": 30,
   "id": "2f63a87a-4ace-4aff-9c69-c9e5489177b1",
   "metadata": {},
   "outputs": [],
   "source": [
    "from sklearn.model_selection import train_test_split"
   ]
  },
  {
   "cell_type": "code",
   "execution_count": 31,
   "id": "71274dfa-468e-462f-9a89-5ae4a9b9f7ce",
   "metadata": {},
   "outputs": [],
   "source": [
    "import torch\n",
    "import torch.nn as nn\n",
    "from sklearn.model_selection import train_test_split\n",
    "\n",
    "# --- DATA PREPARATION ---\n",
    "# Create the full dataset and SPLIT it right away\n",
    "n_samples = 1000\n",
    "cat_data = torch.randint(0, 10, (n_samples, 2))\n",
    "cont_data = torch.randn(n_samples, 3)\n",
    "y_data = torch.randn(n_samples, 1)\n",
    "\n",
    "# This is the line that creates cat_test, con_test, y_test, etc.\n",
    "cat_train, cat_test, cont_train, cont_test, y_train, y_test = train_test_split(\n",
    "    cat_data, cont_data, y_data, test_size=0.2, random_state=42\n",
    ")"
   ]
  },
  {
   "cell_type": "code",
   "execution_count": 33,
   "id": "88168fd0-d591-44cd-b8bc-e4f05e23c7f4",
   "metadata": {},
   "outputs": [],
   "source": [
    "# --- MODEL TRAINING ---\n",
    "# (Your MyModel class definition would be here)\n",
    "# Add the n_cont argument, telling the model it has 3 continuous features\n",
    "model = MyModel(embedding_sizes, n_cont=cont_train.shape[1]) \n",
    "criterion = nn.MSELoss()\n",
    "optimizer = optim.Adam(model.parameters(), lr=0.001)\n",
    "\n",
    "# The training loop uses ONLY the training data\n",
    "epochs = 20\n",
    "for epoch in range(epochs):\n",
    "    y_pred = model(cat_train, cont_train) # Use _train variables\n",
    "    loss = criterion(y_pred, y_train)    # Use _train variables\n",
    "    \n",
    "    optimizer.zero_grad()\n",
    "    loss.backward()\n",
    "    optimizer.step()"
   ]
  },
  {
   "cell_type": "code",
   "execution_count": 37,
   "id": "b651e33a-c5a2-440a-971f-77e472b31a9d",
   "metadata": {},
   "outputs": [
    {
     "name": "stdout",
     "output_type": "stream",
     "text": [
      "Test Set Loss: 0.94338912\n"
     ]
    }
   ],
   "source": [
    "# CORRECT CODE\n",
    "with torch.no_grad():\n",
    "    # These two lines now have the same indentation and belong to the same block.\n",
    "    y_val = model(cat_test, cont_test)\n",
    "    loss = criterion(y_val, y_test)\n",
    "\n",
    "print(f'Test Set Loss: {loss.item():.8f}')"
   ]
  },
  {
   "cell_type": "code",
   "execution_count": 38,
   "id": "c1b51888-d755-4de9-9385-772d002e9b1e",
   "metadata": {},
   "outputs": [
    {
     "name": "stdout",
     "output_type": "stream",
     "text": [
      "0 out of 200 = 0.00% correct\n"
     ]
    }
   ],
   "source": [
    "# CODE HERE\n",
    "\n",
    "# This assumes 'y_val' contains the raw output (logits) from your model for the test set,\n",
    "# and 'y_test' contains the correct labels.\n",
    "\n",
    "# Get the predicted class index by finding the index of the max logit\n",
    "with torch.no_grad():\n",
    "    preds = torch.argmax(y_val, dim=1)\n",
    "\n",
    "# Initialize a counter for correct predictions\n",
    "correct = 0\n",
    "\n",
    "# Loop through each prediction and compare it to the true label\n",
    "for i in range(len(y_test)):\n",
    "    if preds[i] == y_test[i]:\n",
    "        correct += 1\n",
    "\n",
    "# Calculate the total number of samples\n",
    "total = len(y_test)\n",
    "\n",
    "# Calculate the accuracy percentage\n",
    "accuracy = 100 * correct / total\n",
    "\n",
    "# Print the final result in the desired format\n",
    "print(f'{correct} out of {total} = {accuracy:.2f}% correct')"
   ]
  },
  {
   "cell_type": "code",
   "execution_count": null,
   "id": "e1605d6a-071c-4d92-881f-7d1688c11257",
   "metadata": {},
   "outputs": [],
   "source": []
  }
 ],
 "metadata": {
  "kernelspec": {
   "display_name": "Python 3 (ipykernel)",
   "language": "python",
   "name": "python3"
  },
  "language_info": {
   "codemirror_mode": {
    "name": "ipython",
    "version": 3
   },
   "file_extension": ".py",
   "mimetype": "text/x-python",
   "name": "python",
   "nbconvert_exporter": "python",
   "pygments_lexer": "ipython3",
   "version": "3.12.10"
  }
 },
 "nbformat": 4,
 "nbformat_minor": 5
}
